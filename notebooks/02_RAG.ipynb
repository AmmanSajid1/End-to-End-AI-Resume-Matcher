{
 "cells": [
  {
   "cell_type": "markdown",
   "metadata": {},
   "source": [
    "# Creating Embeddings Using Sentence Transformers"
   ]
  },
  {
   "cell_type": "markdown",
   "metadata": {},
   "source": [
    "First need to change working directory to root directory"
   ]
  },
  {
   "cell_type": "code",
   "execution_count": 2,
   "metadata": {},
   "outputs": [
    {
     "data": {
      "text/plain": [
       "'c:\\\\Users\\\\amman\\\\Documents\\\\Generative AI\\\\End-to-End-AI-Resume-Matcher'"
      ]
     },
     "execution_count": 2,
     "metadata": {},
     "output_type": "execute_result"
    }
   ],
   "source": [
    "import os\n",
    "%pwd\n",
    "os.chdir(\"../\")\n",
    "%pwd"
   ]
  },
  {
   "cell_type": "markdown",
   "metadata": {},
   "source": [
    "Load the cleaned resume and job listings data"
   ]
  },
  {
   "cell_type": "code",
   "execution_count": 3,
   "metadata": {},
   "outputs": [],
   "source": [
    "import pandas as pd"
   ]
  },
  {
   "cell_type": "code",
   "execution_count": 4,
   "metadata": {},
   "outputs": [],
   "source": [
    "df_jobs = pd.read_csv(\"data/jobs_desc_clean.csv\")"
   ]
  },
  {
   "cell_type": "markdown",
   "metadata": {},
   "source": [
    "We'll use **all-MiniLM-L6-v2**, a **fast & efficient BERT-based model** for generating embeddings."
   ]
  },
  {
   "cell_type": "code",
   "execution_count": 5,
   "metadata": {},
   "outputs": [
    {
     "name": "stderr",
     "output_type": "stream",
     "text": [
      "c:\\Users\\amman\\anaconda3\\envs\\resume_matcher\\lib\\site-packages\\tqdm\\auto.py:21: TqdmWarning: IProgress not found. Please update jupyter and ipywidgets. See https://ipywidgets.readthedocs.io/en/stable/user_install.html\n",
      "  from .autonotebook import tqdm as notebook_tqdm\n",
      "Batches: 100%|██████████| 63/63 [01:38<00:00,  1.56s/it]\n"
     ]
    }
   ],
   "source": [
    "model_name = \"all-MiniLM-L6-v2\"\n",
    "\n",
    "# Generate embeddings using sentence transformers\n",
    "from sentence_transformers import SentenceTransformer\n",
    "\n",
    "# Load the sentence transformer model\n",
    "model = SentenceTransformer(model_name)\n",
    "\n",
    "# Generate embeddings for job listings\n",
    "job_embeddings = model.encode(df_jobs[\"description\"].tolist(), show_progress_bar=True)"
   ]
  },
  {
   "cell_type": "markdown",
   "metadata": {},
   "source": [
    "## FAISS (Facebook AI Similarity Search)"
   ]
  },
  {
   "cell_type": "markdown",
   "metadata": {},
   "source": [
    "We need to create a function to extract text from the resumes which will be uploaded as PDF files in our case"
   ]
  },
  {
   "cell_type": "code",
   "execution_count": 6,
   "metadata": {},
   "outputs": [],
   "source": [
    "import fitz # pymupdf\n",
    "\n",
    "def extract_text_from_pdf(pdf_path: str):\n",
    "    \n",
    "    doc = fitz.open(pdf_path)\n",
    "    text = \"\" \n",
    "\n",
    "    for page in doc:\n",
    "        text += page.get_text(\"text\") +\"\\n\"\n",
    "\n",
    "    return text.strip()\n",
    "\n",
    "\n"
   ]
  },
  {
   "cell_type": "markdown",
   "metadata": {},
   "source": [
    "Now we store the previously created job listing embeddings in FAISS"
   ]
  },
  {
   "cell_type": "code",
   "execution_count": 7,
   "metadata": {},
   "outputs": [
    {
     "name": "stdout",
     "output_type": "stream",
     "text": [
      "FAISS index contains 2000 job descriptions.\n"
     ]
    }
   ],
   "source": [
    "import faiss \n",
    "import numpy as np \n",
    "\n",
    "# Convert the job embeddings into numpy arrays \n",
    "job_embeddings = np.array(job_embeddings).astype(\"float32\")\n",
    "\n",
    "# Create FAISS index and add job embeddings\n",
    "dimension = job_embeddings.shape[1]\n",
    "index = faiss.IndexFlatL2(dimension)\n",
    "index.add(job_embeddings)\n",
    "\n",
    "print(f\"FAISS index contains {index.ntotal} job descriptions.\")"
   ]
  },
  {
   "cell_type": "markdown",
   "metadata": {},
   "source": [
    "Now we create a function that finds the top k jobs for a given resume."
   ]
  },
  {
   "cell_type": "code",
   "execution_count": 8,
   "metadata": {},
   "outputs": [],
   "source": [
    "def find_top_jobs(resume_path, top_k=5):\n",
    "\n",
    "    # Extract text from Resume PDF file\n",
    "    resume_text = extract_text_from_pdf(resume_path)\n",
    "    # Generate embeddings for the given resume (DO NOT STORE)\n",
    "    resume_vector = model.encode([resume_text]).astype(\"float32\")\n",
    "\n",
    "    # Perform similarity search in FAISS\n",
    "    distances, indices = index.search(resume_vector, top_k)\n",
    "\n",
    "    matched_jobs = df_jobs.iloc[indices[0], 1]\n",
    "\n",
    "    return matched_jobs\n"
   ]
  },
  {
   "cell_type": "markdown",
   "metadata": {},
   "source": [
    "Lets test on an example PDF from the resume dataset"
   ]
  },
  {
   "cell_type": "code",
   "execution_count": 9,
   "metadata": {},
   "outputs": [
    {
     "name": "stdout",
     "output_type": "stream",
     "text": [
      "data\\PDF resumes\\BPO\\30709029.pdf\n"
     ]
    }
   ],
   "source": [
    "import os \n",
    "import random \n",
    "import glob\n",
    "\n",
    "# Get list of different resume types to pick randomly from each time\n",
    "list_of_resume_types = [name for name in os.listdir(\"data\\PDF resumes\")]\n",
    "\n",
    "random_resume_type = random.choice(list_of_resume_types)\n",
    "random_resume = os.path.relpath(random.choice(glob.glob(f'data/PDF resumes/{random_resume_type}/*.pdf')))\n",
    "print(random_resume)"
   ]
  },
  {
   "cell_type": "code",
   "execution_count": 10,
   "metadata": {},
   "outputs": [
    {
     "name": "stdout",
     "output_type": "stream",
     "text": [
      "the real estate acquisition consultant is responsible for buying and selling homes for house buyers of america this person will follow up on leads value houses estimate repairs and close deals in addition to performing extensive due diligence on all acquisitions this role is fully remote what you will dofollow up on leads value properties analyze comps and acquire new homesnegotiate acquisitions and dispositions of propertiesperform extensive due diligence on all acquisitions and prepare contracts for ratificationestimate repairs and determine arv and asis value of propertiesmeet with homeowners facetoface to present offers at their propertieswork with realtors buyers lenders and title during the closing process about youyou have years of sales experienceyou have been consistently ranked within the top of sales staff in previous rolesyou have great communication skills and computer skills including microsoft officeyou have a bachelors degree or higher why we are a great place to workour company is fully remoteour awesome company culture includes competitive pay great benefits great people casual dress team events work hard play hard environmentq was our most profitable and fastest growing quarter ever in our entire historyour margins are growing our gross profit increased in february vs february were continuing our nationwide expansion in alone we launched into four new markets connecticut boston tampa knoxville and more to come house buyers of america is a residential real estate investment company founded in and headquartered in tysons corner va we buy renovate and resell a high volume of homes offering a guaranteed fast and hasslefree sale to people who want to sell their house without paying a realtor commission we have a history of strong growth and success having bought and sold thousands of houses our company went from to million in annual revenue in its first years in business and won the ernst and young entrepreneur of the year award house buyers of america is proudly a member of the inc list house buyers is an equal opportunity employer and does not discriminate by sex creed race or by age wwwhousebuyersofamericacom\n",
      "\n",
      "\n",
      "the real estate acquisition consultant is responsible for buying and selling homes for house buyers of america this person will follow up on leads value houses estimate repairs and close deals in addition to performing extensive due diligence on all acquisitions this role is fully remote what you will dofollow up on leads value properties analyze comps and acquire new homesnegotiate acquisitions and dispositions of propertiesperform extensive due diligence on all acquisitions and prepare contracts for ratificationestimate repairs and determine arv and asis value of propertiesmeet with homeowners facetoface to present offers at their propertieswork with realtors buyers lenders and title during the closing process about youyou have years of sales experienceyou have been consistently ranked within the top of sales staff in previous rolesyou have great communication skills and computer skills including microsoft officeyou have a bachelors degree or higher why we are a great place to workour company is fully remoteour awesome company culture includes competitive pay great benefits great people casual dress team events work hard play hard environmentq was our most profitable and fastest growing quarter ever in our entire historyour margins are growing our gross profit increased in february vs february were continuing our nationwide expansion in alone we launched into four new markets connecticut boston tampa knoxville and more to come house buyers of america is a residential real estate investment company founded in and headquartered in tysons corner va we buy renovate and resell a high volume of homes offering a guaranteed fast and hasslefree sale to people who want to sell their house without paying a realtor commission we have a history of strong growth and success having bought and sold thousands of houses our company went from to million in annual revenue in its first years in business and won the ernst and young entrepreneur of the year award house buyers of america is proudly a member of the inc list house buyers is an equal opportunity employer and does not discriminate by sex creed race or by age wwwhousebuyersofamericacom\n",
      "\n",
      "\n",
      "job descriptionrequirementslicensed commercial real estate salesperson will work under sales director on multifamily retail mixeduse development and office building transactions ranging in size from million to million you will be expected to generate leads cultivate client relationships and interact with active new york city investment property investors and owners all experience levels welcome training is provided the candidate should have excellent interpersonal skills as there is constant client interaction via telephone and in person an aptitude for marketing is also essential and candidate should have a eye for organizing and presenting information in addition ability to research property details while analyzing and determining value are necessary skill sets along with attention to detail organization and creativity qualificationsselfstarter proactive approach entrepreneurial mindsetexcellent verbal communication skills articulate and professional demeanorfocused and goaloriented disciplined consistent work ethiccoachable good listener high emotional intelligencestrong organizational followup skills responsibilitiesgenerating leads and setting up meetings through consistent phone prospecting networking and researchsecuring exclusive listing assignmentsdevelop thorough understanding of the market real estate fundamentalsmaintaining a crmdatabase of property owners whos buying selling investor information insights and buying criteriacreating property setups helping to coordinate the marketing process and initiativesperforming property evaluations and inspections and compiling due diligence packetsnegotiating and executing existing dealsresearching comparable sales statistics and data on current market conditions and trends trainingbesen partners offers a multifaceted training program for continuous development includinginitial onboarding programweekly training sessions on various brokerage fundamentalswellknown industry guest speakersvisiting adjunct professor seminars on cre topicsongoing mentoring\n",
      "\n",
      "\n"
     ]
    }
   ],
   "source": [
    "matched_jobs = find_top_jobs(resume_path=random_resume, top_k=3)\n",
    "\n",
    "for i in matched_jobs:\n",
    "    print(i)\n",
    "    print('\\n')"
   ]
  },
  {
   "cell_type": "markdown",
   "metadata": {},
   "source": [
    "Lets make the result more appealing for users by creating a RAG system, in which we pass the top_k jobs to an LLM to present these job descriptions in a more professional and readable manner."
   ]
  },
  {
   "cell_type": "code",
   "execution_count": 13,
   "metadata": {},
   "outputs": [
    {
     "name": "stdout",
     "output_type": "stream",
     "text": [
      "### Job Opportunity 1: Real Estate Acquisition Consultant at House Buyers of America\n",
      "\n",
      "#### Responsibilities:\n",
      "- Follow up on leads, value properties, and analyze comps\n",
      "- Acquire new homes and negotiate acquisitions/dispositions\n",
      "- Perform extensive due diligence on all acquisitions\n",
      "- Estimate repairs and determine property values\n",
      "- Meet with homeowners to present offers\n",
      "- Work with realtors, buyers, lenders, and title during closing process\n",
      "\n",
      "#### Requirements:\n",
      "- Years of sales experience with top rankings\n",
      "- Strong communication and computer skills\n",
      "- Bachelor's degree or higher\n",
      "\n",
      "#### Why Join Us:\n",
      "- Fully remote work environment\n",
      "- Competitive pay and great benefits\n",
      "- Fast-growing company with strong revenue growth\n",
      "- Ongoing nationwide expansion\n",
      "\n",
      "[Learn more about us](www.housebuyersofamerica.com) | Equal Opportunity Employer\n",
      "\n",
      "---\n",
      "\n",
      "### Job Opportunity 2: Licensed Commercial Real Estate Salesperson in New York City\n",
      "\n",
      "#### Responsibilities:\n",
      "- Generate leads and cultivate client relationships\n",
      "- Interact with investors and property owners\n",
      "- Research property details and determine value\n",
      "- Organize and present information effectively\n",
      "- Engage in property evaluations and due diligence\n",
      "\n",
      "#### Qualifications:\n",
      "- Self-starter with an entrepreneurial mindset\n",
      "- Strong verbal communication and organizational skills\n",
      "- Goal-oriented and disciplined work ethic\n",
      "- Ability to research market conditions and trends\n",
      "\n",
      "#### Training Provided:\n",
      "- Comprehensive onboarding program\n",
      "- Weekly training sessions and guest speakers\n",
      "- Ongoing mentoring for continuous development\n",
      "\n",
      "---\n",
      "\n",
      "Feel free to ask any questions or request further details on these job opportunities. Good luck in your job search!\n"
     ]
    }
   ],
   "source": [
    "import openai\n",
    "import os\n",
    "from dotenv import load_dotenv\n",
    "\n",
    "load_dotenv()\n",
    "openai_client = openai.OpenAI(api_key=os.getenv(\"OPENAI_API_KEY\"))\n",
    "\n",
    "def generate_rag_response(resume_pdf_path: str, top_k=3):\n",
    "    \"\"\"\n",
    "    Retrieves top_k job descriptions using FAISS and generates a summary using an LLM.\n",
    "    \"\"\"\n",
    "\n",
    "    # Step 1: Retrieve top_k job descriptions using FAISS\n",
    "    matched_jobs = find_top_jobs(resume_pdf_path, top_k)\n",
    "\n",
    "    # Step 2: Format job descriptions as input for LLM\n",
    "    job_texts = \"\\n\\n\".join([f\"- {desc}\" for desc in matched_jobs.tolist()])\n",
    "\n",
    "    # Step 3: Define LLM prompt\n",
    "    prompt = f\"\"\"\n",
    "    You are an AI career assistant helping job seekers. The user has uploaded a resume, \n",
    "    and you've retrieved the most relevant job descriptions. Your task is to take these\n",
    "    jobs and present them to the user in a professional, informative and readable manner.\n",
    "\n",
    "    The job descriptions:\n",
    "    {job_texts}\n",
    "\n",
    "    Be concise and professional.\n",
    "    \"\"\"\n",
    "\n",
    "    # Step 4: Call OpenAI GPT API (Replace with your API key)\n",
    "    try:\n",
    "        response = openai_client.chat.completions.create(\n",
    "            model=\"gpt-3.5-turbo\",\n",
    "            messages=[\n",
    "                {\"role\": \"system\", \"content\": \"You are a career coach.\"},\n",
    "                {\"role\": \"user\", \"content\": prompt}\n",
    "            ]\n",
    "        )\n",
    "\n",
    "        return response.choices[0].message.content\n",
    "\n",
    "    except Exception as e:\n",
    "        print(\"OpenAI API Error:\", e)\n",
    "        return \"An error occurred while generating the response.\"\n",
    "\n",
    "# Example Usage\n",
    "summary = generate_rag_response(random_resume)\n",
    "print(summary)\n"
   ]
  }
 ],
 "metadata": {
  "kernelspec": {
   "display_name": "resume_matcher",
   "language": "python",
   "name": "python3"
  },
  "language_info": {
   "codemirror_mode": {
    "name": "ipython",
    "version": 3
   },
   "file_extension": ".py",
   "mimetype": "text/x-python",
   "name": "python",
   "nbconvert_exporter": "python",
   "pygments_lexer": "ipython3",
   "version": "3.10.16"
  }
 },
 "nbformat": 4,
 "nbformat_minor": 2
}
